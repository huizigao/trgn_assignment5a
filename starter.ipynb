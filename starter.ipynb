{
 "cells": [
  {
   "cell_type": "code",
   "execution_count": null,
   "source": [
    "import requests\n",
    "import pandas as pd\n",
    "import json\n",
    "import numpy as np\n",
    "req = requests.get('https://api.covid19api.com/live/country/united-states').json()\n",
    "covid = pd.DataFrame(req)"
   ],
   "outputs": [],
   "metadata": {}
  },
  {
   "cell_type": "code",
   "execution_count": null,
   "source": [
    "covid.info()"
   ],
   "outputs": [],
   "metadata": {}
  },
  {
   "cell_type": "code",
   "execution_count": null,
   "source": [
    "covid.describe()"
   ],
   "outputs": [],
   "metadata": {}
  },
  {
   "cell_type": "code",
   "execution_count": null,
   "source": [
    "import seaborn as sns\n",
    "import matplotlib.pyplot as plt\n",
    "sns.set_theme(style=\"ticks\")\n",
    "sns.relplot(data=covid,x=\"Lat\",y=\"Lon\",hue=\"Deaths\",size=\"Confirmed\",sizes=(40,400))"
   ],
   "outputs": [],
   "metadata": {}
  },
  {
   "cell_type": "code",
   "execution_count": null,
   "source": [
    "covid[\"Lat\"][0]"
   ],
   "outputs": [],
   "metadata": {}
  },
  {
   "cell_type": "code",
   "execution_count": null,
   "source": [
    "covid[\"Lat\"]=covid[\"Lat\"].astype(\"float16\")\n",
    "covid[\"Lon\"]=covid[\"Lon\"].astype(\"float16\")"
   ],
   "outputs": [],
   "metadata": {}
  },
  {
   "cell_type": "code",
   "execution_count": null,
   "source": [
    "covid.info()"
   ],
   "outputs": [],
   "metadata": {}
  },
  {
   "cell_type": "code",
   "execution_count": null,
   "source": [
    "import seaborn as sns\n",
    "import matplotlib.pyplot as plt\n",
    "sns.set_theme(style=\"ticks\")\n",
    "fig=sns.relplot(data=covid,x=\"Lon\", y=\"Lat\", hue=\"Deaths\", size=\"Confirmed\", sizes=(40,400))"
   ],
   "outputs": [],
   "metadata": {}
  },
  {
   "cell_type": "code",
   "execution_count": null,
   "source": [
    "fig=sns.relplot(data=covid,x=\"Lon\", y=\"Lat\", hue=\"Deaths\", size=\"Confirmed\", sizes=(40,400)).set(ylim=(25,50),xlim=(-150,-50))"
   ],
   "outputs": [],
   "metadata": {}
  },
  {
   "cell_type": "code",
   "execution_count": null,
   "source": [
    "req = requests.get(\"https://www.communitybenefitinsight.org/api/get_hospitals.php\").json()\n",
    "hospitals = pd.DataFrame(req)\n",
    "hospitals.head()"
   ],
   "outputs": [],
   "metadata": {}
  }
 ],
 "metadata": {
  "orig_nbformat": 4,
  "language_info": {
   "name": "python",
   "version": "3.8.8",
   "mimetype": "text/x-python",
   "codemirror_mode": {
    "name": "ipython",
    "version": 3
   },
   "pygments_lexer": "ipython3",
   "nbconvert_exporter": "python",
   "file_extension": ".py"
  },
  "kernelspec": {
   "name": "python3",
   "display_name": "Python 3.8.8 64-bit ('base': conda)"
  },
  "interpreter": {
   "hash": "f5f6ad500d40358b251fd8a7c01701a54319acf1fd7c3650e9d6d9c4274bc102"
  }
 },
 "nbformat": 4,
 "nbformat_minor": 2
}